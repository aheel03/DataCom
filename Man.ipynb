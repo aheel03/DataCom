{
 "cells": [
  {
   "cell_type": "code",
   "execution_count": 1,
   "id": "2a239d35",
   "metadata": {},
   "outputs": [
    {
     "name": "stdout",
     "output_type": "stream",
     "text": [
      "Original Data         : 1011001\n",
      "Manchester Encoded    : [1, 0, 0, 1, 1, 0, 1, 0, 0, 1, 0, 1, 1, 0]\n",
      "Manchester Decoded    : 1011001\n"
     ]
    }
   ],
   "source": [
    "original_data = '1011001'\n",
    "\n",
    "def manchester_encode(data):\n",
    "    encoded = []\n",
    "    for bit in data:\n",
    "        if bit == '1':\n",
    "            encoded += [1, 0]  # High → Low\n",
    "        else:\n",
    "            encoded += [0, 1]  # Low → High\n",
    "    return encoded\n",
    "\n",
    "def manchester_decode(encoded):\n",
    "    decoded = []\n",
    "    for i in range(0, len(encoded), 2):\n",
    "        first_half = encoded[i]\n",
    "        second_half = encoded[i+1]\n",
    "        if first_half == 1 and second_half == 0:\n",
    "            decoded.append('1')\n",
    "        elif first_half == 0 and second_half == 1:\n",
    "            decoded.append('0')\n",
    "        else:\n",
    "            decoded.append('?')  # Invalid Manchester pair\n",
    "    return ''.join(decoded)\n",
    "\n",
    "encoded_signal = manchester_encode(original_data)\n",
    "decoded_data = manchester_decode(encoded_signal)\n",
    "\n",
    "print(\"Original Data         :\", original_data)\n",
    "print(\"Manchester Encoded    :\", encoded_signal)\n",
    "print(\"Manchester Decoded    :\", decoded_data)\n"
   ]
  },
  {
   "cell_type": "code",
   "execution_count": 2,
   "id": "653908a2",
   "metadata": {},
   "outputs": [
    {
     "data": {
      "image/png": "[encoded data removed]",
      "text/plain": [
       "<Figure size 640x480 with 1 Axes>"
      ]
     },
     "metadata": {},
     "output_type": "display_data"
    }
   ],
   "source": [
    "import matplotlib.pyplot as plt\n",
    "\n",
    "def plot_signal(bitstream):\n",
    "    encoded = manchester_encode(bitstream)\n",
    "    time = []\n",
    "    signal = []\n",
    "    t = 0\n",
    "    for bit in encoded:\n",
    "        time += [t, t + 0.5]\n",
    "        signal += [bit, bit]\n",
    "        t += 0.5\n",
    "\n",
    "    plt.step(time, signal, where='post')\n",
    "    plt.ylim(-0.5, 1.5)\n",
    "    plt.text(0, 1.1, f\"Input: {bitstream}\")\n",
    "    plt.grid(True)\n",
    "    plt.show()\n",
    "\n",
    "plot_signal('1011001')\n"
   ]
  }
 ],
 "metadata": {
  "kernelspec": {
   "display_name": "Python 3",
   "language": "python",
   "name": "python3"
  },
  "language_info": {
   "codemirror_mode": {
    "name": "ipython",
    "version": 3
   },
   "file_extension": ".py",
   "mimetype": "text/x-python",
   "name": "python",
   "nbconvert_exporter": "python",
   "pygments_lexer": "ipython3",
   "version": "3.13.0"
  }
 },
 "nbformat": 4,
 "nbformat_minor": 5
}
